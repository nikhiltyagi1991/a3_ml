{
 "cells": [
  {
   "cell_type": "code",
   "execution_count": 5,
   "metadata": {},
   "outputs": [],
   "source": [
    "import tensorflow as tf\n",
    "from tensorflow import keras\n",
    "import pandas as pd\n",
    "from sklearn import svm\n",
    "from sklearn.model_selection import KFold\n",
    "import pdb\n",
    "import numpy as np"
   ]
  },
  {
   "cell_type": "code",
   "execution_count": 6,
   "metadata": {},
   "outputs": [],
   "source": [
    "mnist = tf.keras.datasets.mnist\n",
    "(train_data,train_labels),(test_data,test_labels) = mnist.load_data()\n",
    "train_data = train_data.reshape(train_labels.size,784)#Converting 28X28 matrix in a row =784 elements\n",
    "test_data = test_data.reshape(test_labels.size,784)#Converting 28X28 matrix in a row =784 elements"
   ]
  },
  {
   "cell_type": "code",
   "execution_count": 7,
   "metadata": {},
   "outputs": [],
   "source": [
    "idx = (train_labels == 2) | (train_labels == 3)\n",
    "X = train_data[idx]/255.0\n",
    "Y = train_labels[idx]\n",
    "svc = svm.SVC(C=1, gamma=0.05).fit(X,Y)"
   ]
  },
  {
   "cell_type": "code",
   "execution_count": 9,
   "metadata": {},
   "outputs": [],
   "source": [
    "idx = (test_labels == 2) | (test_labels == 3)\n",
    "x_test = test_data[idx]/255.0\n",
    "y_test = test_labels[idx]\n",
    "#svc_pred = svc.predict(x_test)"
   ]
  },
  {
   "cell_type": "code",
   "execution_count": 10,
   "metadata": {},
   "outputs": [
    {
     "data": {
      "text/plain": [
       "0.9980411361410382"
      ]
     },
     "execution_count": 10,
     "metadata": {},
     "output_type": "execute_result"
    }
   ],
   "source": [
    "svc.score(x_test,y_test)"
   ]
  },
  {
   "cell_type": "code",
   "execution_count": 11,
   "metadata": {},
   "outputs": [
    {
     "data": {
      "text/plain": [
       "0.1032"
      ]
     },
     "execution_count": 11,
     "metadata": {},
     "output_type": "execute_result"
    }
   ],
   "source": [
    "svc.score(test_data, test_labels)"
   ]
  },
  {
   "cell_type": "markdown",
   "metadata": {},
   "source": [
    "# CROSS VALIDATION"
   ]
  },
  {
   "cell_type": "code",
   "execution_count": 6,
   "metadata": {},
   "outputs": [
    {
     "name": "stdout",
     "output_type": "stream",
     "text": [
      "0.9933829611248967\n",
      "0.9884201819685691\n",
      "0.9925558312655087\n",
      "0.9950372208436724\n",
      "0.9950372208436724\n",
      "0.9933829611248967\n",
      "0.9942100909842845\n",
      "0.9842845326716294\n",
      "0.9925558312655087\n",
      "0.9983443708609272\n"
     ]
    }
   ],
   "source": [
    "kf = KFold(n_splits=10)\n",
    "data = pd.DataFrame(np.array(mnist.load_data()))\n",
    "data.head()\n",
    "#pdb.set_trace()\n",
    "for train, test in kf.split(X):\n",
    "        \n",
    "        #pdb.set_trace()\n",
    "        svc = svm.SVC(C=1, gamma=0.05).fit(X[train],Y[train])\n",
    "        print(svc.score(X[test],Y[test]))\n",
    "        "
   ]
  },
  {
   "cell_type": "code",
   "execution_count": null,
   "metadata": {},
   "outputs": [],
   "source": []
  }
 ],
 "metadata": {
  "kernelspec": {
   "display_name": "Python 3",
   "language": "python",
   "name": "python3"
  },
  "language_info": {
   "codemirror_mode": {
    "name": "ipython",
    "version": 3
   },
   "file_extension": ".py",
   "mimetype": "text/x-python",
   "name": "python",
   "nbconvert_exporter": "python",
   "pygments_lexer": "ipython3",
   "version": "3.6.8"
  }
 },
 "nbformat": 4,
 "nbformat_minor": 2
}
